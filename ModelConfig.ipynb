{
 "cells": [
  {
   "cell_type": "code",
   "execution_count": 1,
   "id": "9b8f8004-67f8-4081-8452-81b973986535",
   "metadata": {},
   "outputs": [],
   "source": [
    "import os \n",
    "from dotenv import load_dotenv\n",
    "from sklearn.ensemble import RandomForestRegressor\n",
    "from sklearn.linear_model import LinearRegression\n",
    "from datasets import load_dataset"
   ]
  },
  {
   "cell_type": "code",
   "execution_count": 2,
   "id": "15698cfe-b8c9-4c1d-a59f-ca65c000be12",
   "metadata": {},
   "outputs": [],
   "source": [
    "# dataset = load_dataset('ed-donner/pricer-data')\n",
    "# len(dataset)"
   ]
  },
  {
   "cell_type": "code",
   "execution_count": 3,
   "id": "ab293aa5-43cd-4e11-b10e-b512d42bf112",
   "metadata": {},
   "outputs": [],
   "source": [
    "from items import Item\n",
    "import pickle\n",
    "with open('train.pkl','rb')as f:\n",
    "    train_full = pickle.load(f)"
   ]
  },
  {
   "cell_type": "code",
   "execution_count": 4,
   "id": "f4165f6a-6e24-498a-86d1-9115bce749ae",
   "metadata": {},
   "outputs": [
    {
     "data": {
      "text/plain": [
       "400000"
      ]
     },
     "execution_count": 4,
     "metadata": {},
     "output_type": "execute_result"
    }
   ],
   "source": [
    "len(train_full)"
   ]
  },
  {
   "cell_type": "code",
   "execution_count": 5,
   "id": "e98df643-3f03-4ecc-9894-a06f23bc1e54",
   "metadata": {},
   "outputs": [],
   "source": [
    "train = train_full[:100_000]"
   ]
  },
  {
   "cell_type": "code",
   "execution_count": 6,
   "id": "d335413a-d9bb-492b-8651-c15f47d6113e",
   "metadata": {},
   "outputs": [
    {
     "data": {
      "text/plain": [
       "100000"
      ]
     },
     "execution_count": 6,
     "metadata": {},
     "output_type": "execute_result"
    }
   ],
   "source": [
    "len(train)"
   ]
  },
  {
   "cell_type": "code",
   "execution_count": 7,
   "id": "8c15cc49-b0c1-4d1b-bd09-9182afe1c1c7",
   "metadata": {},
   "outputs": [],
   "source": [
    "DB = \"product_vectorstore\"\n",
    "COLLECTION_NAME = \"products\""
   ]
  },
  {
   "cell_type": "code",
   "execution_count": 8,
   "id": "3fc7941d-dc6d-4fe7-9df1-160e1f8bfd35",
   "metadata": {},
   "outputs": [],
   "source": [
    "import chromadb\n",
    "\n",
    "client = chromadb.PersistentClient(DB)\n",
    "collection = client.get_or_create_collection(COLLECTION_NAME)"
   ]
  },
  {
   "cell_type": "code",
   "execution_count": null,
   "id": "493c6e46-7a7b-4d9d-bae2-346a487395eb",
   "metadata": {},
   "outputs": [],
   "source": [
    "from tqdm import tqdm"
   ]
  },
  {
   "cell_type": "code",
   "execution_count": null,
   "id": "cf8e885c-24ef-4dba-95f1-8cd397708131",
   "metadata": {},
   "outputs": [],
   "source": [
    "from sentence_transformers import SentenceTransformer\n",
    "encoder = SentenceTransformer('sentence-transformers/all-MiniLM-L6-v2') "
   ]
  },
  {
   "cell_type": "code",
   "execution_count": null,
   "id": "fba84746-5d52-42e4-8348-16e2598ca4e3",
   "metadata": {},
   "outputs": [],
   "source": [
    "def description(item):\n",
    "    text = item.prompt.replace(\"How much does this cost to the nearest dollar?\\n\\n\", \"\")\n",
    "    return text.split(\"\\n\\nPrice is $\")[0]"
   ]
  },
  {
   "cell_type": "code",
   "execution_count": null,
   "id": "27ce174a-ca17-4301-abab-bf08bee63556",
   "metadata": {},
   "outputs": [],
   "source": [
    "for i in tqdm(range(0,len(train),500)):\n",
    "    docs = [description(t) for t in train[i:i+500]]\n",
    "    vectors = encoder.encode(docs).astype(float).tolist()\n",
    "    metadatas = [{'category':t.category,'price':t.price} for t in train[i:i+500]]\n",
    "    ids = [f\"doc_{j}\" for j in range(i,i+500)]\n",
    "    collection.add(\n",
    "        ids=ids,\n",
    "        documents = docs,\n",
    "        embeddings=vectors,\n",
    "        metadatas=metadatas\n",
    "    )"
   ]
  },
  {
   "cell_type": "code",
   "execution_count": 9,
   "id": "a2d5da78-5aee-4e96-ae2d-13dd22de9958",
   "metadata": {},
   "outputs": [
    {
     "data": {
      "text/plain": [
       "100000"
      ]
     },
     "execution_count": 9,
     "metadata": {},
     "output_type": "execute_result"
    }
   ],
   "source": [
    "collection.count()"
   ]
  },
  {
   "cell_type": "code",
   "execution_count": null,
   "id": "7c96425c-38fb-43ca-a87c-041bf732859d",
   "metadata": {},
   "outputs": [],
   "source": [
    "from Frontier_Agent import Frontier_Agent"
   ]
  },
  {
   "cell_type": "code",
   "execution_count": null,
   "id": "1f4263ec-55a0-431c-bb9c-ede2cee87e33",
   "metadata": {},
   "outputs": [],
   "source": [
    "f_agent = Frontier_Agent(collection)"
   ]
  },
  {
   "cell_type": "code",
   "execution_count": null,
   "id": "d9561a3f-f45a-407a-8684-f488b982b6b5",
   "metadata": {},
   "outputs": [],
   "source": [
    "f_agent.price(\"Iphone 6\")"
   ]
  },
  {
   "cell_type": "code",
   "execution_count": null,
   "id": "ce590e60-d0d5-4b51-873b-079362c96902",
   "metadata": {},
   "outputs": [],
   "source": []
  },
  {
   "cell_type": "code",
   "execution_count": null,
   "id": "09d1fb53-6b64-42ca-b2e2-4220a3cfb50d",
   "metadata": {},
   "outputs": [],
   "source": [
    "result = collection.get(include=['embeddings','documents','metadatas'])"
   ]
  },
  {
   "cell_type": "code",
   "execution_count": null,
   "id": "c8651019-a0d8-4745-b79b-2865e6e90ef9",
   "metadata": {},
   "outputs": [],
   "source": [
    "vectors = result['embeddings']\n",
    "prices = [m['price'] for m in result['metadatas']]\n",
    "len(prices)"
   ]
  },
  {
   "cell_type": "code",
   "execution_count": null,
   "id": "55d361e1-adbb-47f1-b7d5-cb73059442f3",
   "metadata": {},
   "outputs": [],
   "source": [
    "rf_model = RandomForestRegressor(n_estimators=50,random_state=42)"
   ]
  },
  {
   "cell_type": "code",
   "execution_count": null,
   "id": "6c75194b-5f9d-40d6-a412-ff292bb1de8b",
   "metadata": {},
   "outputs": [],
   "source": [
    "X = vectors[:50000]\n",
    "Y = prices[:50000]"
   ]
  },
  {
   "cell_type": "code",
   "execution_count": null,
   "id": "a5185842-0f15-4694-9cd3-6b811789c3b2",
   "metadata": {},
   "outputs": [],
   "source": [
    "Y[0]"
   ]
  },
  {
   "cell_type": "code",
   "execution_count": null,
   "id": "41f8475e-0b4a-449a-906e-8d26fe2f3603",
   "metadata": {},
   "outputs": [],
   "source": [
    "from tqdm import tqdm\n",
    "tqdm(rf_model.fit(X,Y))"
   ]
  },
  {
   "cell_type": "code",
   "execution_count": null,
   "id": "ef2a9e44-2a12-445c-b7d7-6bd2dbc3000e",
   "metadata": {},
   "outputs": [],
   "source": [
    "# import pickle\n",
    "# with open('rf_model.pkl','wb')as f:\n",
    "#     pickle.dump(rf_model,f)"
   ]
  },
  {
   "cell_type": "code",
   "execution_count": null,
   "id": "0968d1e9-066e-4c2d-821a-02e58723ac65",
   "metadata": {},
   "outputs": [],
   "source": [
    "with open('rf_model.pkl','rb')as f:\n",
    "    rf_model = pickle.load(f)"
   ]
  },
  {
   "cell_type": "code",
   "execution_count": 41,
   "id": "b54b30fe-9c27-4b0d-835a-6529d29c32a7",
   "metadata": {},
   "outputs": [],
   "source": [
    "test_prompt = train_full[399_999].prompt.replace(\"How much does this cost to the nearest dollar?\\n\\n\",\"\").split(\"Price is $\")[0]"
   ]
  },
  {
   "cell_type": "code",
   "execution_count": 42,
   "id": "35cc41db-3c03-477f-ba89-73baad33f446",
   "metadata": {},
   "outputs": [
    {
     "data": {
      "text/plain": [
       "'How much does this cost to the nearest dollar?\\n\\n50 Pack Outlet Wall Plate Insulation Gasket Weatherproof Wall Gasket Replacement EVA Insulation Foam Gasket Sealer Outlet Insulation Pads Insulated Covers Plug Sealer Light Switch Socket Insulator\\nFeatures Convenient and lightweight The wall outlet sealer is compact and lightweight without taking up much space, which can be stored at home, office or hotels for replacement needs, providing more convenience for you. Necessary home supplies The foam outlet insulators provide a great way to seal tiny cold or hot air that flows through wall outlets and switches, saving energy for your home. Specifications Material EVA Color white Size 63 x 107 mm/ 2.5 x 4.2 inches Package includes 50 x Light switch insulation gaskets Notes Manual measurement, please allow slight errors on size. The color\\n\\nPrice is $9.00'"
      ]
     },
     "execution_count": 42,
     "metadata": {},
     "output_type": "execute_result"
    }
   ],
   "source": [
    "train_full[399_999].prompt\n"
   ]
  },
  {
   "cell_type": "code",
   "execution_count": 43,
   "id": "9db93f42-a891-4f4a-b06b-1184ea69972d",
   "metadata": {},
   "outputs": [],
   "source": [
    "from RandomForest_Agent import RandomForest_Agent \n",
    "from Frontier_Agent import Frontier_Agent\n",
    "from LLAMA_Agent import LLAMA_Agent"
   ]
  },
  {
   "cell_type": "code",
   "execution_count": 45,
   "id": "faf41ece-868c-42f3-bfcc-9c6fd404ef02",
   "metadata": {},
   "outputs": [],
   "source": [
    "rf_model = RandomForest_Agent()\n",
    "f_agent = Frontier_Agent(collection)\n",
    "ll_agent = LLAMA_Agent()"
   ]
  },
  {
   "cell_type": "code",
   "execution_count": 46,
   "id": "a21342ad-83de-4d52-b3f9-5c2497f2d5c0",
   "metadata": {},
   "outputs": [
    {
     "data": {
      "text/plain": [
       "14.99"
      ]
     },
     "execution_count": 46,
     "metadata": {},
     "output_type": "execute_result"
    }
   ],
   "source": [
    "f_agent.price(test_prompt)"
   ]
  },
  {
   "cell_type": "code",
   "execution_count": 47,
   "id": "8c695b47-16ab-4e01-9103-49d90bbb781f",
   "metadata": {},
   "outputs": [
    {
     "data": {
      "text/plain": [
       "129.86499999999995"
      ]
     },
     "execution_count": 47,
     "metadata": {},
     "output_type": "execute_result"
    }
   ],
   "source": [
    "rf_model.price(test_prompt)"
   ]
  },
  {
   "cell_type": "code",
   "execution_count": 48,
   "id": "3bf3d6ea-0d3e-4af0-892a-d18413054b3f",
   "metadata": {},
   "outputs": [
    {
     "data": {
      "text/plain": [
       "19.0"
      ]
     },
     "execution_count": 48,
     "metadata": {},
     "output_type": "execute_result"
    }
   ],
   "source": [
    "ll_agent.price(test_prompt)"
   ]
  },
  {
   "cell_type": "code",
   "execution_count": null,
   "id": "5bc9244a-3156-4915-a70d-55d76a6a695b",
   "metadata": {},
   "outputs": [],
   "source": [
    "!modal token new"
   ]
  },
  {
   "cell_type": "code",
   "execution_count": null,
   "id": "b513512c-5939-4ecf-96f1-2ed2e2c5dc1e",
   "metadata": {},
   "outputs": [],
   "source": [
    "!modal token set \\\n",
    "  --token-id ak-5gbwoP0kufrHiczqPvG9Lj \\\n",
    "  --token-secret as-1wGqW2nDcwDe6Vs5kFESrI\n",
    "import locale\n",
    "import os\n",
    "\n",
    "# Check the default encoding\n",
    "print(locale.getpreferredencoding())  # Should print 'UTF-8'\n",
    "\n",
    "# Ensure UTF-8 encoding\n",
    "os.environ['PYTHONIOENCODING'] = 'utf-8'\n"
   ]
  },
  {
   "cell_type": "code",
   "execution_count": null,
   "id": "3b80442b-d4aa-4c58-b356-505e49918d8a",
   "metadata": {},
   "outputs": [],
   "source": [
    "!modal deploy model_upload"
   ]
  },
  {
   "cell_type": "code",
   "execution_count": null,
   "id": "e2321e67-e631-47b4-bd6f-9d769fd5eccc",
   "metadata": {},
   "outputs": [],
   "source": [
    "import modal\n",
    "PRICE_PREDICT = modal.Cls.lookup(\"Llama_Pricer\",\"Price_Predict\")\n",
    "pricer_obj = PRICE_PREDICT()\n",
    "pricer_obj.price.remote(test_prompt)"
   ]
  },
  {
   "cell_type": "code",
   "execution_count": null,
   "id": "2ac08eae-d77c-4adf-8b1d-99e66d4667c9",
   "metadata": {},
   "outputs": [],
   "source": [
    "test_prompt"
   ]
  },
  {
   "cell_type": "code",
   "execution_count": 10,
   "id": "48aa9d97-87ce-4e02-8caa-dddf301dab97",
   "metadata": {},
   "outputs": [],
   "source": [
    "from LLAMA_Agent import LLAMA_Agent\n",
    "from Frontier_Agent import Frontier_Agent\n",
    "from RandomForest_Agent import RandomForest_Agent\n",
    "\n",
    "rf_model = RandomForest_Agent()\n"
   ]
  },
  {
   "cell_type": "code",
   "execution_count": 11,
   "id": "3358ca4a-14ca-4a2e-8a0d-4cf558dd43cd",
   "metadata": {},
   "outputs": [],
   "source": [
    "fr_model = Frontier_Agent(collection)"
   ]
  },
  {
   "cell_type": "code",
   "execution_count": 12,
   "id": "f174b849-db5f-4baa-8676-3fc03542635c",
   "metadata": {},
   "outputs": [],
   "source": [
    "ll_model = LLAMA_Agent()"
   ]
  },
  {
   "cell_type": "code",
   "execution_count": 17,
   "id": "a22105d5-7077-49eb-8a46-20d3d2947223",
   "metadata": {},
   "outputs": [],
   "source": [
    "llama_predictions = []\n",
    "frontier_predictions = []\n",
    "rf_predictions = []\n",
    "actual_prices = []"
   ]
  },
  {
   "cell_type": "code",
   "execution_count": 15,
   "id": "a241e746-15ff-45c5-950e-0ff980a88399",
   "metadata": {},
   "outputs": [
    {
     "data": {
      "text/plain": [
       "400000"
      ]
     },
     "execution_count": 15,
     "metadata": {},
     "output_type": "execute_result"
    }
   ],
   "source": [
    "len(train_full)"
   ]
  },
  {
   "cell_type": "code",
   "execution_count": 16,
   "id": "d730a687-b35d-4f16-8d11-386437b34f46",
   "metadata": {},
   "outputs": [],
   "source": [
    "def description(item):\n",
    "    return item.prompt.split(\"to the nearest dollar?\\n\\n\")[1].split(\"\\n\\nPrice is $\")[0]"
   ]
  },
  {
   "cell_type": "code",
   "execution_count": 22,
   "id": "3788ef3e-f8fb-4a2f-89be-7d3600ed4df0",
   "metadata": {},
   "outputs": [
    {
     "name": "stderr",
     "output_type": "stream",
     "text": [
      "100%|████████████████████████████████████████████████████████████████████████████████| 250/250 [14:16<00:00,  3.43s/it]\n"
     ]
    }
   ],
   "source": [
    "from tqdm import tqdm\n",
    "for item in tqdm(train_full[300_000:300_250]):\n",
    "    desc = description(item)\n",
    "    llama_predictions.append(ll_model.price(desc))\n",
    "    frontier_predictions.append(fr_model.price(desc))\n",
    "    rf_predictions.append(rf_model.price(desc))\n",
    "    actual_prices.append(item.price)\n",
    "    "
   ]
  },
  {
   "cell_type": "code",
   "execution_count": 23,
   "id": "9ff285d7-fd24-4241-a19d-3ccf557875f2",
   "metadata": {},
   "outputs": [
    {
     "data": {
      "text/plain": [
       "250"
      ]
     },
     "execution_count": 23,
     "metadata": {},
     "output_type": "execute_result"
    }
   ],
   "source": [
    "len(actual_prices)"
   ]
  },
  {
   "cell_type": "code",
   "execution_count": 24,
   "id": "5bf8d1c1-392d-4031-8fa1-4403fee666c3",
   "metadata": {},
   "outputs": [],
   "source": [
    "Mins = [min(l,f,r) for l,f,r in zip(llama_predictions,frontier_predictions,rf_predictions)]\n",
    "Max = [max(l,f,r) for l,f,r in zip(llama_predictions,frontier_predictions,rf_predictions)]"
   ]
  },
  {
   "cell_type": "code",
   "execution_count": 25,
   "id": "db557c6e-d97d-4e10-a515-ef703e1473c0",
   "metadata": {},
   "outputs": [
    {
     "data": {
      "text/plain": [
       "250"
      ]
     },
     "execution_count": 25,
     "metadata": {},
     "output_type": "execute_result"
    }
   ],
   "source": [
    "len(Mins)"
   ]
  },
  {
   "cell_type": "code",
   "execution_count": 28,
   "id": "c573e3e3-346f-405a-b35f-684567973172",
   "metadata": {},
   "outputs": [
    {
     "data": {
      "text/plain": [
       "250"
      ]
     },
     "execution_count": 28,
     "metadata": {},
     "output_type": "execute_result"
    }
   ],
   "source": [
    "len(Max)\n"
   ]
  },
  {
   "cell_type": "code",
   "execution_count": 20,
   "id": "45a51f3b-bcc5-4be6-a604-b7fadd88a415",
   "metadata": {},
   "outputs": [],
   "source": [
    "import pandas as pd"
   ]
  },
  {
   "cell_type": "code",
   "execution_count": 29,
   "id": "b8bb8e6a-8f87-43e6-95e1-8db754c92ff8",
   "metadata": {},
   "outputs": [],
   "source": [
    "Y = pd.Series(actual_prices)\n",
    "X = pd.DataFrame({\n",
    "    \"Llama\":llama_predictions,\n",
    "    \"Frontier\":frontier_predictions,\n",
    "    \"RandomForest\":rf_predictions,\n",
    "    \"Mins\":Mins,\n",
    "    \"Max\":Max\n",
    "}\n",
    ")"
   ]
  },
  {
   "cell_type": "code",
   "execution_count": 30,
   "id": "8ff34d63-26ab-47a9-a2ce-addab5dc93b6",
   "metadata": {},
   "outputs": [],
   "source": [
    "lr_model = LinearRegression()"
   ]
  },
  {
   "cell_type": "code",
   "execution_count": 31,
   "id": "ea996dc1-be73-4972-b8f4-f195affef59a",
   "metadata": {},
   "outputs": [
    {
     "data": {
      "text/html": [
       "<style>#sk-container-id-1 {\n",
       "  /* Definition of color scheme common for light and dark mode */\n",
       "  --sklearn-color-text: #000;\n",
       "  --sklearn-color-text-muted: #666;\n",
       "  --sklearn-color-line: gray;\n",
       "  /* Definition of color scheme for unfitted estimators */\n",
       "  --sklearn-color-unfitted-level-0: #fff5e6;\n",
       "  --sklearn-color-unfitted-level-1: #f6e4d2;\n",
       "  --sklearn-color-unfitted-level-2: #ffe0b3;\n",
       "  --sklearn-color-unfitted-level-3: chocolate;\n",
       "  /* Definition of color scheme for fitted estimators */\n",
       "  --sklearn-color-fitted-level-0: #f0f8ff;\n",
       "  --sklearn-color-fitted-level-1: #d4ebff;\n",
       "  --sklearn-color-fitted-level-2: #b3dbfd;\n",
       "  --sklearn-color-fitted-level-3: cornflowerblue;\n",
       "\n",
       "  /* Specific color for light theme */\n",
       "  --sklearn-color-text-on-default-background: var(--sg-text-color, var(--theme-code-foreground, var(--jp-content-font-color1, black)));\n",
       "  --sklearn-color-background: var(--sg-background-color, var(--theme-background, var(--jp-layout-color0, white)));\n",
       "  --sklearn-color-border-box: var(--sg-text-color, var(--theme-code-foreground, var(--jp-content-font-color1, black)));\n",
       "  --sklearn-color-icon: #696969;\n",
       "\n",
       "  @media (prefers-color-scheme: dark) {\n",
       "    /* Redefinition of color scheme for dark theme */\n",
       "    --sklearn-color-text-on-default-background: var(--sg-text-color, var(--theme-code-foreground, var(--jp-content-font-color1, white)));\n",
       "    --sklearn-color-background: var(--sg-background-color, var(--theme-background, var(--jp-layout-color0, #111)));\n",
       "    --sklearn-color-border-box: var(--sg-text-color, var(--theme-code-foreground, var(--jp-content-font-color1, white)));\n",
       "    --sklearn-color-icon: #878787;\n",
       "  }\n",
       "}\n",
       "\n",
       "#sk-container-id-1 {\n",
       "  color: var(--sklearn-color-text);\n",
       "}\n",
       "\n",
       "#sk-container-id-1 pre {\n",
       "  padding: 0;\n",
       "}\n",
       "\n",
       "#sk-container-id-1 input.sk-hidden--visually {\n",
       "  border: 0;\n",
       "  clip: rect(1px 1px 1px 1px);\n",
       "  clip: rect(1px, 1px, 1px, 1px);\n",
       "  height: 1px;\n",
       "  margin: -1px;\n",
       "  overflow: hidden;\n",
       "  padding: 0;\n",
       "  position: absolute;\n",
       "  width: 1px;\n",
       "}\n",
       "\n",
       "#sk-container-id-1 div.sk-dashed-wrapped {\n",
       "  border: 1px dashed var(--sklearn-color-line);\n",
       "  margin: 0 0.4em 0.5em 0.4em;\n",
       "  box-sizing: border-box;\n",
       "  padding-bottom: 0.4em;\n",
       "  background-color: var(--sklearn-color-background);\n",
       "}\n",
       "\n",
       "#sk-container-id-1 div.sk-container {\n",
       "  /* jupyter's `normalize.less` sets `[hidden] { display: none; }`\n",
       "     but bootstrap.min.css set `[hidden] { display: none !important; }`\n",
       "     so we also need the `!important` here to be able to override the\n",
       "     default hidden behavior on the sphinx rendered scikit-learn.org.\n",
       "     See: https://github.com/scikit-learn/scikit-learn/issues/21755 */\n",
       "  display: inline-block !important;\n",
       "  position: relative;\n",
       "}\n",
       "\n",
       "#sk-container-id-1 div.sk-text-repr-fallback {\n",
       "  display: none;\n",
       "}\n",
       "\n",
       "div.sk-parallel-item,\n",
       "div.sk-serial,\n",
       "div.sk-item {\n",
       "  /* draw centered vertical line to link estimators */\n",
       "  background-image: linear-gradient(var(--sklearn-color-text-on-default-background), var(--sklearn-color-text-on-default-background));\n",
       "  background-size: 2px 100%;\n",
       "  background-repeat: no-repeat;\n",
       "  background-position: center center;\n",
       "}\n",
       "\n",
       "/* Parallel-specific style estimator block */\n",
       "\n",
       "#sk-container-id-1 div.sk-parallel-item::after {\n",
       "  content: \"\";\n",
       "  width: 100%;\n",
       "  border-bottom: 2px solid var(--sklearn-color-text-on-default-background);\n",
       "  flex-grow: 1;\n",
       "}\n",
       "\n",
       "#sk-container-id-1 div.sk-parallel {\n",
       "  display: flex;\n",
       "  align-items: stretch;\n",
       "  justify-content: center;\n",
       "  background-color: var(--sklearn-color-background);\n",
       "  position: relative;\n",
       "}\n",
       "\n",
       "#sk-container-id-1 div.sk-parallel-item {\n",
       "  display: flex;\n",
       "  flex-direction: column;\n",
       "}\n",
       "\n",
       "#sk-container-id-1 div.sk-parallel-item:first-child::after {\n",
       "  align-self: flex-end;\n",
       "  width: 50%;\n",
       "}\n",
       "\n",
       "#sk-container-id-1 div.sk-parallel-item:last-child::after {\n",
       "  align-self: flex-start;\n",
       "  width: 50%;\n",
       "}\n",
       "\n",
       "#sk-container-id-1 div.sk-parallel-item:only-child::after {\n",
       "  width: 0;\n",
       "}\n",
       "\n",
       "/* Serial-specific style estimator block */\n",
       "\n",
       "#sk-container-id-1 div.sk-serial {\n",
       "  display: flex;\n",
       "  flex-direction: column;\n",
       "  align-items: center;\n",
       "  background-color: var(--sklearn-color-background);\n",
       "  padding-right: 1em;\n",
       "  padding-left: 1em;\n",
       "}\n",
       "\n",
       "\n",
       "/* Toggleable style: style used for estimator/Pipeline/ColumnTransformer box that is\n",
       "clickable and can be expanded/collapsed.\n",
       "- Pipeline and ColumnTransformer use this feature and define the default style\n",
       "- Estimators will overwrite some part of the style using the `sk-estimator` class\n",
       "*/\n",
       "\n",
       "/* Pipeline and ColumnTransformer style (default) */\n",
       "\n",
       "#sk-container-id-1 div.sk-toggleable {\n",
       "  /* Default theme specific background. It is overwritten whether we have a\n",
       "  specific estimator or a Pipeline/ColumnTransformer */\n",
       "  background-color: var(--sklearn-color-background);\n",
       "}\n",
       "\n",
       "/* Toggleable label */\n",
       "#sk-container-id-1 label.sk-toggleable__label {\n",
       "  cursor: pointer;\n",
       "  display: flex;\n",
       "  width: 100%;\n",
       "  margin-bottom: 0;\n",
       "  padding: 0.5em;\n",
       "  box-sizing: border-box;\n",
       "  text-align: center;\n",
       "  align-items: start;\n",
       "  justify-content: space-between;\n",
       "  gap: 0.5em;\n",
       "}\n",
       "\n",
       "#sk-container-id-1 label.sk-toggleable__label .caption {\n",
       "  font-size: 0.6rem;\n",
       "  font-weight: lighter;\n",
       "  color: var(--sklearn-color-text-muted);\n",
       "}\n",
       "\n",
       "#sk-container-id-1 label.sk-toggleable__label-arrow:before {\n",
       "  /* Arrow on the left of the label */\n",
       "  content: \"▸\";\n",
       "  float: left;\n",
       "  margin-right: 0.25em;\n",
       "  color: var(--sklearn-color-icon);\n",
       "}\n",
       "\n",
       "#sk-container-id-1 label.sk-toggleable__label-arrow:hover:before {\n",
       "  color: var(--sklearn-color-text);\n",
       "}\n",
       "\n",
       "/* Toggleable content - dropdown */\n",
       "\n",
       "#sk-container-id-1 div.sk-toggleable__content {\n",
       "  max-height: 0;\n",
       "  max-width: 0;\n",
       "  overflow: hidden;\n",
       "  text-align: left;\n",
       "  /* unfitted */\n",
       "  background-color: var(--sklearn-color-unfitted-level-0);\n",
       "}\n",
       "\n",
       "#sk-container-id-1 div.sk-toggleable__content.fitted {\n",
       "  /* fitted */\n",
       "  background-color: var(--sklearn-color-fitted-level-0);\n",
       "}\n",
       "\n",
       "#sk-container-id-1 div.sk-toggleable__content pre {\n",
       "  margin: 0.2em;\n",
       "  border-radius: 0.25em;\n",
       "  color: var(--sklearn-color-text);\n",
       "  /* unfitted */\n",
       "  background-color: var(--sklearn-color-unfitted-level-0);\n",
       "}\n",
       "\n",
       "#sk-container-id-1 div.sk-toggleable__content.fitted pre {\n",
       "  /* unfitted */\n",
       "  background-color: var(--sklearn-color-fitted-level-0);\n",
       "}\n",
       "\n",
       "#sk-container-id-1 input.sk-toggleable__control:checked~div.sk-toggleable__content {\n",
       "  /* Expand drop-down */\n",
       "  max-height: 200px;\n",
       "  max-width: 100%;\n",
       "  overflow: auto;\n",
       "}\n",
       "\n",
       "#sk-container-id-1 input.sk-toggleable__control:checked~label.sk-toggleable__label-arrow:before {\n",
       "  content: \"▾\";\n",
       "}\n",
       "\n",
       "/* Pipeline/ColumnTransformer-specific style */\n",
       "\n",
       "#sk-container-id-1 div.sk-label input.sk-toggleable__control:checked~label.sk-toggleable__label {\n",
       "  color: var(--sklearn-color-text);\n",
       "  background-color: var(--sklearn-color-unfitted-level-2);\n",
       "}\n",
       "\n",
       "#sk-container-id-1 div.sk-label.fitted input.sk-toggleable__control:checked~label.sk-toggleable__label {\n",
       "  background-color: var(--sklearn-color-fitted-level-2);\n",
       "}\n",
       "\n",
       "/* Estimator-specific style */\n",
       "\n",
       "/* Colorize estimator box */\n",
       "#sk-container-id-1 div.sk-estimator input.sk-toggleable__control:checked~label.sk-toggleable__label {\n",
       "  /* unfitted */\n",
       "  background-color: var(--sklearn-color-unfitted-level-2);\n",
       "}\n",
       "\n",
       "#sk-container-id-1 div.sk-estimator.fitted input.sk-toggleable__control:checked~label.sk-toggleable__label {\n",
       "  /* fitted */\n",
       "  background-color: var(--sklearn-color-fitted-level-2);\n",
       "}\n",
       "\n",
       "#sk-container-id-1 div.sk-label label.sk-toggleable__label,\n",
       "#sk-container-id-1 div.sk-label label {\n",
       "  /* The background is the default theme color */\n",
       "  color: var(--sklearn-color-text-on-default-background);\n",
       "}\n",
       "\n",
       "/* On hover, darken the color of the background */\n",
       "#sk-container-id-1 div.sk-label:hover label.sk-toggleable__label {\n",
       "  color: var(--sklearn-color-text);\n",
       "  background-color: var(--sklearn-color-unfitted-level-2);\n",
       "}\n",
       "\n",
       "/* Label box, darken color on hover, fitted */\n",
       "#sk-container-id-1 div.sk-label.fitted:hover label.sk-toggleable__label.fitted {\n",
       "  color: var(--sklearn-color-text);\n",
       "  background-color: var(--sklearn-color-fitted-level-2);\n",
       "}\n",
       "\n",
       "/* Estimator label */\n",
       "\n",
       "#sk-container-id-1 div.sk-label label {\n",
       "  font-family: monospace;\n",
       "  font-weight: bold;\n",
       "  display: inline-block;\n",
       "  line-height: 1.2em;\n",
       "}\n",
       "\n",
       "#sk-container-id-1 div.sk-label-container {\n",
       "  text-align: center;\n",
       "}\n",
       "\n",
       "/* Estimator-specific */\n",
       "#sk-container-id-1 div.sk-estimator {\n",
       "  font-family: monospace;\n",
       "  border: 1px dotted var(--sklearn-color-border-box);\n",
       "  border-radius: 0.25em;\n",
       "  box-sizing: border-box;\n",
       "  margin-bottom: 0.5em;\n",
       "  /* unfitted */\n",
       "  background-color: var(--sklearn-color-unfitted-level-0);\n",
       "}\n",
       "\n",
       "#sk-container-id-1 div.sk-estimator.fitted {\n",
       "  /* fitted */\n",
       "  background-color: var(--sklearn-color-fitted-level-0);\n",
       "}\n",
       "\n",
       "/* on hover */\n",
       "#sk-container-id-1 div.sk-estimator:hover {\n",
       "  /* unfitted */\n",
       "  background-color: var(--sklearn-color-unfitted-level-2);\n",
       "}\n",
       "\n",
       "#sk-container-id-1 div.sk-estimator.fitted:hover {\n",
       "  /* fitted */\n",
       "  background-color: var(--sklearn-color-fitted-level-2);\n",
       "}\n",
       "\n",
       "/* Specification for estimator info (e.g. \"i\" and \"?\") */\n",
       "\n",
       "/* Common style for \"i\" and \"?\" */\n",
       "\n",
       ".sk-estimator-doc-link,\n",
       "a:link.sk-estimator-doc-link,\n",
       "a:visited.sk-estimator-doc-link {\n",
       "  float: right;\n",
       "  font-size: smaller;\n",
       "  line-height: 1em;\n",
       "  font-family: monospace;\n",
       "  background-color: var(--sklearn-color-background);\n",
       "  border-radius: 1em;\n",
       "  height: 1em;\n",
       "  width: 1em;\n",
       "  text-decoration: none !important;\n",
       "  margin-left: 0.5em;\n",
       "  text-align: center;\n",
       "  /* unfitted */\n",
       "  border: var(--sklearn-color-unfitted-level-1) 1pt solid;\n",
       "  color: var(--sklearn-color-unfitted-level-1);\n",
       "}\n",
       "\n",
       ".sk-estimator-doc-link.fitted,\n",
       "a:link.sk-estimator-doc-link.fitted,\n",
       "a:visited.sk-estimator-doc-link.fitted {\n",
       "  /* fitted */\n",
       "  border: var(--sklearn-color-fitted-level-1) 1pt solid;\n",
       "  color: var(--sklearn-color-fitted-level-1);\n",
       "}\n",
       "\n",
       "/* On hover */\n",
       "div.sk-estimator:hover .sk-estimator-doc-link:hover,\n",
       ".sk-estimator-doc-link:hover,\n",
       "div.sk-label-container:hover .sk-estimator-doc-link:hover,\n",
       ".sk-estimator-doc-link:hover {\n",
       "  /* unfitted */\n",
       "  background-color: var(--sklearn-color-unfitted-level-3);\n",
       "  color: var(--sklearn-color-background);\n",
       "  text-decoration: none;\n",
       "}\n",
       "\n",
       "div.sk-estimator.fitted:hover .sk-estimator-doc-link.fitted:hover,\n",
       ".sk-estimator-doc-link.fitted:hover,\n",
       "div.sk-label-container:hover .sk-estimator-doc-link.fitted:hover,\n",
       ".sk-estimator-doc-link.fitted:hover {\n",
       "  /* fitted */\n",
       "  background-color: var(--sklearn-color-fitted-level-3);\n",
       "  color: var(--sklearn-color-background);\n",
       "  text-decoration: none;\n",
       "}\n",
       "\n",
       "/* Span, style for the box shown on hovering the info icon */\n",
       ".sk-estimator-doc-link span {\n",
       "  display: none;\n",
       "  z-index: 9999;\n",
       "  position: relative;\n",
       "  font-weight: normal;\n",
       "  right: .2ex;\n",
       "  padding: .5ex;\n",
       "  margin: .5ex;\n",
       "  width: min-content;\n",
       "  min-width: 20ex;\n",
       "  max-width: 50ex;\n",
       "  color: var(--sklearn-color-text);\n",
       "  box-shadow: 2pt 2pt 4pt #999;\n",
       "  /* unfitted */\n",
       "  background: var(--sklearn-color-unfitted-level-0);\n",
       "  border: .5pt solid var(--sklearn-color-unfitted-level-3);\n",
       "}\n",
       "\n",
       ".sk-estimator-doc-link.fitted span {\n",
       "  /* fitted */\n",
       "  background: var(--sklearn-color-fitted-level-0);\n",
       "  border: var(--sklearn-color-fitted-level-3);\n",
       "}\n",
       "\n",
       ".sk-estimator-doc-link:hover span {\n",
       "  display: block;\n",
       "}\n",
       "\n",
       "/* \"?\"-specific style due to the `<a>` HTML tag */\n",
       "\n",
       "#sk-container-id-1 a.estimator_doc_link {\n",
       "  float: right;\n",
       "  font-size: 1rem;\n",
       "  line-height: 1em;\n",
       "  font-family: monospace;\n",
       "  background-color: var(--sklearn-color-background);\n",
       "  border-radius: 1rem;\n",
       "  height: 1rem;\n",
       "  width: 1rem;\n",
       "  text-decoration: none;\n",
       "  /* unfitted */\n",
       "  color: var(--sklearn-color-unfitted-level-1);\n",
       "  border: var(--sklearn-color-unfitted-level-1) 1pt solid;\n",
       "}\n",
       "\n",
       "#sk-container-id-1 a.estimator_doc_link.fitted {\n",
       "  /* fitted */\n",
       "  border: var(--sklearn-color-fitted-level-1) 1pt solid;\n",
       "  color: var(--sklearn-color-fitted-level-1);\n",
       "}\n",
       "\n",
       "/* On hover */\n",
       "#sk-container-id-1 a.estimator_doc_link:hover {\n",
       "  /* unfitted */\n",
       "  background-color: var(--sklearn-color-unfitted-level-3);\n",
       "  color: var(--sklearn-color-background);\n",
       "  text-decoration: none;\n",
       "}\n",
       "\n",
       "#sk-container-id-1 a.estimator_doc_link.fitted:hover {\n",
       "  /* fitted */\n",
       "  background-color: var(--sklearn-color-fitted-level-3);\n",
       "}\n",
       "</style><div id=\"sk-container-id-1\" class=\"sk-top-container\"><div class=\"sk-text-repr-fallback\"><pre>LinearRegression()</pre><b>In a Jupyter environment, please rerun this cell to show the HTML representation or trust the notebook. <br />On GitHub, the HTML representation is unable to render, please try loading this page with nbviewer.org.</b></div><div class=\"sk-container\" hidden><div class=\"sk-item\"><div class=\"sk-estimator fitted sk-toggleable\"><input class=\"sk-toggleable__control sk-hidden--visually\" id=\"sk-estimator-id-1\" type=\"checkbox\" checked><label for=\"sk-estimator-id-1\" class=\"sk-toggleable__label fitted sk-toggleable__label-arrow\"><div><div>LinearRegression</div></div><div><a class=\"sk-estimator-doc-link fitted\" rel=\"noreferrer\" target=\"_blank\" href=\"https://scikit-learn.org/1.6/modules/generated/sklearn.linear_model.LinearRegression.html\">?<span>Documentation for LinearRegression</span></a><span class=\"sk-estimator-doc-link fitted\">i<span>Fitted</span></span></div></label><div class=\"sk-toggleable__content fitted\"><pre>LinearRegression()</pre></div> </div></div></div></div>"
      ],
      "text/plain": [
       "LinearRegression()"
      ]
     },
     "execution_count": 31,
     "metadata": {},
     "output_type": "execute_result"
    }
   ],
   "source": [
    "lr_model.fit(X,Y)"
   ]
  },
  {
   "cell_type": "code",
   "execution_count": 32,
   "id": "dde3f400-7d7e-43bf-9eb7-a5836b67220e",
   "metadata": {},
   "outputs": [],
   "source": [
    "features = X.columns.tolist()"
   ]
  },
  {
   "cell_type": "code",
   "execution_count": 33,
   "id": "2638662e-1c5d-42d6-b6e5-202e3258dd35",
   "metadata": {},
   "outputs": [
    {
     "data": {
      "text/plain": [
       "['Llama', 'Frontier', 'RandomForest', 'Mins', 'Max']"
      ]
     },
     "execution_count": 33,
     "metadata": {},
     "output_type": "execute_result"
    }
   ],
   "source": [
    "features"
   ]
  },
  {
   "cell_type": "code",
   "execution_count": 36,
   "id": "f9327109-a4cc-47b8-a356-f2a5b59ffe3a",
   "metadata": {},
   "outputs": [
    {
     "name": "stdout",
     "output_type": "stream",
     "text": [
      "Llama = 0.3296148524702103\n",
      "Frontier = 0.8107245427600348\n",
      "RandomForest = 0.26537447983215867\n",
      "Mins = -0.2506674585414073\n",
      "Max = -0.18906220590611827\n",
      "Intercept 11.74\n"
     ]
    }
   ],
   "source": [
    "for f,c in zip(features,lr_model.coef_):\n",
    "    print(f\"{f} = {c}\")\n",
    "print(f\"Intercept {lr_model.intercept_:.2f}\")"
   ]
  },
  {
   "cell_type": "code",
   "execution_count": 37,
   "id": "6af979f5-9b11-4b6a-8622-f140c96e588b",
   "metadata": {},
   "outputs": [],
   "source": [
    "import joblib"
   ]
  },
  {
   "cell_type": "code",
   "execution_count": 38,
   "id": "06e5a3e8-79aa-40c2-8ecb-bc2e9bf68b25",
   "metadata": {},
   "outputs": [
    {
     "data": {
      "text/plain": [
       "['lr_model.pkl']"
      ]
     },
     "execution_count": 38,
     "metadata": {},
     "output_type": "execute_result"
    }
   ],
   "source": [
    "# joblib.dump(lr_model,\"lr_model.pkl\")"
   ]
  },
  {
   "cell_type": "code",
   "execution_count": 39,
   "id": "b8aa3308-b30b-4aea-89d7-6abf2a48ba6d",
   "metadata": {},
   "outputs": [
    {
     "data": {
      "text/plain": [
       "100000"
      ]
     },
     "execution_count": 39,
     "metadata": {},
     "output_type": "execute_result"
    }
   ],
   "source": [
    "collection.count()"
   ]
  },
  {
   "cell_type": "code",
   "execution_count": 49,
   "id": "54591e0a-ed00-499a-aad0-27798735c4a4",
   "metadata": {},
   "outputs": [],
   "source": [
    "from Ensemble_Agent import Ensemble_Agent\n",
    "\n",
    "en_agent = Ensemble_Agent(collection)"
   ]
  },
  {
   "cell_type": "code",
   "execution_count": null,
   "id": "53a0b889-dda9-4e05-8d0f-ace82e9c9564",
   "metadata": {},
   "outputs": [],
   "source": []
  },
  {
   "cell_type": "code",
   "execution_count": 50,
   "id": "7f600e78-605c-4996-bd0a-ba000ae11731",
   "metadata": {},
   "outputs": [
    {
     "data": {
      "text/plain": [
       "36.31232344049136"
      ]
     },
     "execution_count": 50,
     "metadata": {},
     "output_type": "execute_result"
    }
   ],
   "source": [
    "en_agent.price(test_prompt)"
   ]
  },
  {
   "cell_type": "code",
   "execution_count": null,
   "id": "9171ab35-7678-4cae-9ac0-cc99fe7e9e3c",
   "metadata": {},
   "outputs": [],
   "source": []
  }
 ],
 "metadata": {
  "kernelspec": {
   "display_name": "Python 3 (ipykernel)",
   "language": "python",
   "name": "python3"
  },
  "language_info": {
   "codemirror_mode": {
    "name": "ipython",
    "version": 3
   },
   "file_extension": ".py",
   "mimetype": "text/x-python",
   "name": "python",
   "nbconvert_exporter": "python",
   "pygments_lexer": "ipython3",
   "version": "3.11.11"
  }
 },
 "nbformat": 4,
 "nbformat_minor": 5
}
